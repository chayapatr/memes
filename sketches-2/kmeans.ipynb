{
 "cells": [
  {
   "cell_type": "code",
   "execution_count": null,
   "metadata": {},
   "outputs": [],
   "source": [
    "from sklearn.cluster import KMeans\n",
    "import pandas as pd\n",
    "\n",
    "rng = 130\n",
    "\n",
    "em = pd.read_csv('embedded.csv').to_numpy()\n",
    "\n",
    "for i in range(1, rng):\n",
    "    kmean = KMeans(n_clusters=i, init='k-means++', max_iter=300, n_init=10, random_state=0, verbose=True)\n",
    "    kmean.fit(em)\n",
    "    # wcss.append(kmean.inertia_)\n",
    "\n",
    "import matplotlib.pyplot as plt\n",
    "# Plot\n",
    "plt.plot(range(1, rng), wcss)\n",
    "plt.xlabel(\"no of clusters\")\n",
    "plt.ylabel(\"wcss\")\n",
    "plt.show()\n",
    "\n",
    "model = KMeans(n_clusters=5, init='k-means++', n_init=1)\n",
    "model.fit(x)\n",
    "\n",
    "print(\"ttpc: \")\n",
    "order_centroids = model.cluster_centers_.argsort()[:, ::-1]\n",
    "terms = cv.get_feature_names_out()\n",
    "print(terms)\n",
    "for i in range(rng):\n",
    "    print(f\"cluster {i}\")\n",
    "    for ind in order_centroids[i, :10]:\n",
    "        print(f\"{terms[ind]}\", end=\" \")\n",
    "    print(\"\\n\")\n"
   ]
  }
 ],
 "metadata": {
  "language_info": {
   "name": "python"
  }
 },
 "nbformat": 4,
 "nbformat_minor": 2
}
