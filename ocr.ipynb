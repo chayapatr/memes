{
 "cells": [
  {
   "cell_type": "code",
   "execution_count": null,
   "metadata": {},
   "outputs": [],
   "source": [
    "import easyocr\n",
    "import pandas as pd\n",
    "from PIL import Image\n",
    "import csv\n",
    "from wordsegment import segment, load\n",
    "\n",
    "cluster = ''"
   ]
  },
  {
   "cell_type": "code",
   "execution_count": null,
   "metadata": {},
   "outputs": [],
   "source": [
    "load()\n",
    "\n",
    "reader = easyocr.Reader(['en'])\n",
    "fetched = pd.read_csv(f'{cluster}.csv')\n",
    "ocrd = open(f'{cluster}-top-ocr.csv', \"w\", newline='', encoding=\"utf-8\")\n",
    "writer = csv.writer(ocrd)\n",
    "writer.writerow(['post_name', 'text', 'caption'])\n",
    "\n",
    "imgs = [*fetched['img_path']]"
   ]
  },
  {
   "cell_type": "code",
   "execution_count": null,
   "metadata": {},
   "outputs": [],
   "source": [
    "def extract_image_from_gif(n):\n",
    "    with Image.open(f\"{cluster}/{n}.gif\") as im:\n",
    "        im.seek(0)\n",
    "        im.save(f\"{cluster}/{n}.png\")\n",
    "\n",
    "def easy_ocr(path):\n",
    "    result = reader.readtext(path, detail=0, paragraph=True, y_ths = -0.05, text_threshold=0.85)\n",
    "    return result\n",
    "\n",
    "def word_segment(sentences):\n",
    "    return \"\\n\".join([\" \".join(segment(sentence)) for sentence in sentences])\n",
    "\n",
    "# def clean_sentence(sentences):\n",
    "#     nl = ['mematic', 'imgflip']\n",
    "#     def check(sentence, nl):\n",
    "#         return not any([all([w in na.split() for w in sentence]) for na in nl])\n",
    "#     return [sentence for sentence in sentences if check(sentence, nl)]\n",
    "\n",
    "def read_meme(path):\n",
    "    [n, t] = path.split(\".\")\n",
    "    if t == \"gif\":\n",
    "        extract_image_from_gif(n)\n",
    "    # return word_segment(easy_ocr(f\"{cluster}/{n}.{t if t != 'gif' else 'png'}\"))\n",
    "    text = word_segment(easy_ocr(f\"{cluster}/{n}.{t if t != 'gif' else 'png'}\"))\n",
    "    # print(text)\n",
    "    return path, text"
   ]
  },
  {
   "cell_type": "code",
   "execution_count": null,
   "metadata": {},
   "outputs": [],
   "source": [
    "for i, img in enumerate((imgs)):\n",
    "  if(img.split(\".\")[-1] == \"gifv\"):\n",
    "      continue\n",
    "  res = read_meme(img)\n",
    "  writer.writerow([res[0].split(\".\")[0], res[1], fetched.loc[fetched['img_path'] == res[0]]['post_caption'].tolist()[0]])\n",
    "  print(f\"{i}: writing\", res[0])"
   ]
  }
 ],
 "metadata": {
  "kernelspec": {
   "display_name": "Python 3",
   "language": "python",
   "name": "python3"
  },
  "language_info": {
   "name": "python",
   "version": "3.9.6"
  }
 },
 "nbformat": 4,
 "nbformat_minor": 2
}
