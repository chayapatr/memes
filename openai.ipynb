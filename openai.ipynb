{
 "cells": [
  {
   "cell_type": "code",
   "execution_count": 34,
   "metadata": {},
   "outputs": [],
   "source": [
    "from openai import OpenAI\n",
    "import numpy as np\n",
    "from sklearn.metrics.pairwise import cosine_similarity\n",
    "\n",
    "client = OpenAI(\n",
    "    api_key=\"\"\n",
    ")\n",
    "\n",
    "model='text-embedding-ada-002'\n",
    "\n",
    "def embedded(word):\n",
    "    return np.array(client.embeddings.create(input=word, model=model).data[0].embedding).reshape(1, -1)"
   ]
  },
  {
   "cell_type": "code",
   "execution_count": 35,
   "metadata": {},
   "outputs": [],
   "source": [
    "king = embedded('king')\n",
    "man = embedded('man')\n",
    "woman = embedded('woman')\n",
    "queen = embedded('queen')"
   ]
  },
  {
   "cell_type": "code",
   "execution_count": 48,
   "metadata": {},
   "outputs": [
    {
     "name": "stdout",
     "output_type": "stream",
     "text": [
      "[[0.97680427]]\n",
      "[[0.65792386]]\n"
     ]
    }
   ],
   "source": [
    "# x = np.array(embedded('padthai')).reshape(1, -1)\n",
    "def similar(w1, w2):\n",
    "    return cosine_similarity(embedded(w1), embedded(w2))\n",
    "print(similar('i love cats', 'i love a cat'))\n",
    "print(similar('i love cats', 'def segmentation(w2: String): lambda'))"
   ]
  },
  {
   "cell_type": "code",
   "execution_count": 41,
   "metadata": {},
   "outputs": [],
   "source": [
    "import chromadb\n",
    "chroma_client = chromadb.EphemeralClient()"
   ]
  }
 ],
 "metadata": {
  "kernelspec": {
   "display_name": "Python 3",
   "language": "python",
   "name": "python3"
  },
  "language_info": {
   "codemirror_mode": {
    "name": "ipython",
    "version": 3
   },
   "file_extension": ".py",
   "mimetype": "text/x-python",
   "name": "python",
   "nbconvert_exporter": "python",
   "pygments_lexer": "ipython3",
   "version": "3.9.6"
  }
 },
 "nbformat": 4,
 "nbformat_minor": 2
}
