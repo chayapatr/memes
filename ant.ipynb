{
 "cells": [
  {
   "cell_type": "code",
   "execution_count": 22,
   "metadata": {},
   "outputs": [
    {
     "name": "stderr",
     "output_type": "stream",
     "text": [
      "[nltk_data] Downloading package wordnet to\n",
      "[nltk_data]     /Users/chayapatr/nltk_data...\n",
      "[nltk_data]   Package wordnet is already up-to-date!\n",
      "[nltk_data] Downloading package stopwords to\n",
      "[nltk_data]     /Users/chayapatr/nltk_data...\n",
      "[nltk_data]   Package stopwords is already up-to-date!\n",
      "/var/folders/bw/64y3yr9n6v50fgm86wtx236c0000gn/T/ipykernel_9491/2629782613.py:43: FutureWarning: Series.__getitem__ treating keys as positions is deprecated. In a future version, integer keys will always be treated as labels (consistent with DataFrame behavior). To access a value by position, use `ser.iloc[pos]`\n",
      "  with open(f\"antd/{d[0]}.txt\", \"w\") as f:\n",
      "/var/folders/bw/64y3yr9n6v50fgm86wtx236c0000gn/T/ipykernel_9491/2629782613.py:44: FutureWarning: Series.__getitem__ treating keys as positions is deprecated. In a future version, integer keys will always be treated as labels (consistent with DataFrame behavior). To access a value by position, use `ser.iloc[pos]`\n",
      "  f.write(str(d[2]) + \"\\n\" + str(d[1]))\n"
     ]
    }
   ],
   "source": [
    "import pandas as pd\n",
    "f = \"./csv/ocr/dankmemes-top-ocr.csv\"\n",
    "df = pd.read_csv(f'{f}')\n",
    "import re\n",
    "import nltk\n",
    "\n",
    "nltk.download('wordnet')\n",
    "nltk.download('stopwords')\n",
    "\n",
    "from nltk.corpus import stopwords\n",
    "from nltk.stem import WordNetLemmatizer\n",
    " \n",
    "\n",
    "sw = set(stopwords.words('english'))\n",
    "lemmatizer = WordNetLemmatizer()\n",
    "\n",
    "def clean(t):\n",
    "        text = str(t).lower()  \n",
    "        text = re.sub(r\"\\[(.*?)\\]\", \"\", text)  \n",
    "        text = re.sub(r\"\\s+\", \" \", text)  \n",
    "        text = re.sub(r\"\\w+…|…\", \"\", text)  \n",
    "        text = re.sub(r\"(?<=\\w)-(?=\\w)\", \" \", text)  \n",
    "\n",
    "        text = re.sub(r\"made with me matic\", \" \", text)  \n",
    "        text = re.sub(r\"me matic\", \" \", text)  \n",
    "        text = re.sub(r\"img flip com\", \" \", text)  \n",
    "        text = re.sub(r\"img i ipcom\", \" \", text)  \n",
    "        text = re.sub(r\"flip com\", \" \", text)  \n",
    "        text = re.sub(r\"img lip com\", \" \", text)  \n",
    "        text = re.sub(r\"img lip\", \" \", text)  \n",
    "        text = re.sub(r\"tenor\", \" \", text)  \n",
    "        text = re.sub(r\"reddito rs\", \"redditors\", text)  \n",
    "\n",
    "        tokens = text.split()\n",
    "        tokens = [t for t in tokens if not t in sw]  \n",
    "        tokens = [\"\" if t.isdigit() else t for t in tokens]  \n",
    "        tokens = [t for t in tokens if len(t) > 1]  \n",
    "        tokens = [lemmatizer.lemmatize(token) for token in tokens]\n",
    "\n",
    "        return \" \".join(tokens)\n",
    "\n",
    "for i, d in df.iterrows():\n",
    "    with open(f\"antd/{d[0]}.txt\", \"w\") as f:\n",
    "        f.write(clean(str(d[2]) + \"\\n\" + str(d[1])))"
   ]
  }
 ],
 "metadata": {
  "kernelspec": {
   "display_name": "Python 3",
   "language": "python",
   "name": "python3"
  },
  "language_info": {
   "codemirror_mode": {
    "name": "ipython",
    "version": 3
   },
   "file_extension": ".py",
   "mimetype": "text/x-python",
   "name": "python",
   "nbconvert_exporter": "python",
   "pygments_lexer": "ipython3",
   "version": "3.9.6"
  }
 },
 "nbformat": 4,
 "nbformat_minor": 2
}
